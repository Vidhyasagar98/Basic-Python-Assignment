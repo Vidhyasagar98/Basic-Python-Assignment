{
 "cells": [
  {
   "cell_type": "markdown",
   "id": "50b390bb-c12c-452b-93fd-a1085b436df1",
   "metadata": {},
   "source": [
    "Python Basics - Assignment Question"
   ]
  },
  {
   "cell_type": "raw",
   "id": "fd9e7f17-b58d-4724-ac18-623dee3730e8",
   "metadata": {},
   "source": [
    "TOPIC: Python Basics Variable"
   ]
  },
  {
   "cell_type": "raw",
   "id": "f65fee04-7fb8-44db-bc81-3c67b431f5ba",
   "metadata": {},
   "source": [
    "1. Declare two variables, `x` and `y`, and assign them integer values. Swap the\n",
    "values of these variables without using any temporary variable."
   ]
  },
  {
   "cell_type": "code",
   "execution_count": 4,
   "id": "3ec6cd88-8003-4a26-b4c5-986f285f3ab9",
   "metadata": {},
   "outputs": [],
   "source": [
    "X = 10\n",
    "Y = 12"
   ]
  },
  {
   "cell_type": "code",
   "execution_count": 5,
   "id": "52c60c3c-98d4-4dc6-9a74-d29811f8d83b",
   "metadata": {},
   "outputs": [],
   "source": [
    "X,Y = Y,X"
   ]
  },
  {
   "cell_type": "code",
   "execution_count": 8,
   "id": "14bbce34-9305-41f3-94cb-20724d970ea9",
   "metadata": {},
   "outputs": [
    {
     "name": "stdout",
     "output_type": "stream",
     "text": [
      "X =  12\n",
      "Y =  10\n"
     ]
    }
   ],
   "source": [
    "print(\"X = \",X)\n",
    "print(\"Y = \",Y)"
   ]
  },
  {
   "cell_type": "markdown",
   "id": "64f556f6-dd35-4d0e-8384-1ed02425ceef",
   "metadata": {},
   "source": [
    "Another Way of solving the problem when input is integer"
   ]
  },
  {
   "cell_type": "code",
   "execution_count": 18,
   "id": "ea4f50a0-5f37-4586-9577-febdceb45342",
   "metadata": {},
   "outputs": [
    {
     "name": "stdout",
     "output_type": "stream",
     "text": [
      "X =  12\n",
      "Y =  10\n"
     ]
    }
   ],
   "source": [
    "X = 10\n",
    "Y = 12\n",
    "\n",
    "X = X+Y\n",
    "Y = X-Y\n",
    "X = X-Y\n",
    "\n",
    "print(\"X = \",X)\n",
    "print(\"Y = \",Y)"
   ]
  },
  {
   "cell_type": "code",
   "execution_count": null,
   "id": "b91f6d78-1623-4ba2-b454-f51eb2012997",
   "metadata": {},
   "outputs": [],
   "source": []
  },
  {
   "cell_type": "markdown",
   "id": "3a61899e-0205-4809-a87c-fd4a2d7fddc9",
   "metadata": {},
   "source": [
    "2. Create a program that calculates the area of a rectangle. Take the length and\n",
    "width as inputs from the user and store them in variables. Calculate and\n",
    "display the area."
   ]
  },
  {
   "cell_type": "code",
   "execution_count": 3,
   "id": "9bd87be9-e0a0-44bd-824d-df1a8c590228",
   "metadata": {},
   "outputs": [
    {
     "name": "stdin",
     "output_type": "stream",
     "text": [
      "Enter the length of Rectangle : 12.4\n",
      "Enter thr width of Rectangle : 21\n"
     ]
    },
    {
     "name": "stdout",
     "output_type": "stream",
     "text": [
      "Area of the rectangle is : 260.40000000000003\n"
     ]
    }
   ],
   "source": [
    "Length = float(input(\"Enter the length of Rectangle :\"))\n",
    "Width  = float(input(\"Enter thr width of Rectangle :\"))\n",
    "\n",
    "Area = Length*Width\n",
    "print(\"Area of the rectangle is :\",Area)"
   ]
  },
  {
   "cell_type": "code",
   "execution_count": null,
   "id": "34a8fc55-533f-4e5e-a12d-8fbaa7c7c57c",
   "metadata": {},
   "outputs": [],
   "source": []
  },
  {
   "cell_type": "markdown",
   "id": "3965074f-6c94-48d7-85ad-9e4300ebb112",
   "metadata": {},
   "source": [
    "3. Write a Python program that converts temperatures from Celsius to\n",
    "Fahrenheit. Take the temperature in Celsius as input, store it in a variable,\n",
    "convert it to Fahrenheit, and display the result."
   ]
  },
  {
   "cell_type": "code",
   "execution_count": 5,
   "id": "63afc970-c1ec-4bb1-bca9-d846e888afd7",
   "metadata": {},
   "outputs": [
    {
     "name": "stdin",
     "output_type": "stream",
     "text": [
      "Enter the Temperature in celsius : 15\n"
     ]
    },
    {
     "name": "stdout",
     "output_type": "stream",
     "text": [
      "Temperature in fahrenheit : 59.0\n"
     ]
    }
   ],
   "source": [
    "Celsius = float(input(\"Enter the Temperature in celsius :\"))\n",
    "\n",
    "Fahrenheit = (Celsius*(9/5))+32\n",
    "\n",
    "print(\"Temperature in fahrenheit :\", Fahrenheit)"
   ]
  },
  {
   "cell_type": "code",
   "execution_count": null,
   "id": "9cf37776-bc61-407a-a3b7-3acb3a689486",
   "metadata": {},
   "outputs": [],
   "source": []
  },
  {
   "cell_type": "markdown",
   "id": "c6a8c242-1c0b-474d-9b75-417a8b03d7e1",
   "metadata": {},
   "source": [
    "TOPIC: String Based Questions"
   ]
  },
  {
   "cell_type": "markdown",
   "id": "0e13ec4f-05c8-4ca5-973e-52c4e42db77f",
   "metadata": {},
   "source": [
    "1. Write a Python program that takes a string as input and prints the length of\n",
    "the string."
   ]
  },
  {
   "cell_type": "code",
   "execution_count": 10,
   "id": "82f11769-5af5-4554-baa0-56d0234fd84b",
   "metadata": {},
   "outputs": [
    {
     "name": "stdin",
     "output_type": "stream",
     "text": [
      "Enter thr string to find the length Vidhyasagar\n"
     ]
    },
    {
     "name": "stdout",
     "output_type": "stream",
     "text": [
      "The total length of the string is: 11\n"
     ]
    }
   ],
   "source": [
    "String = input(\"Enter thr string to find the length\")\n",
    "\n",
    "length = len(String)\n",
    "\n",
    "print(\"The total length of the string is:\",length)"
   ]
  },
  {
   "cell_type": "code",
   "execution_count": null,
   "id": "76b795ed-ba71-4c7a-8aa5-4ee823e1a0a8",
   "metadata": {},
   "outputs": [],
   "source": []
  },
  {
   "cell_type": "markdown",
   "id": "a68b0d18-4a8b-410a-a749-cdbbd3f5386e",
   "metadata": {},
   "source": [
    "2. Create a program that takes a sentence from the user and counts the number\n",
    "of vowels (a, e, i, o, u) in the string."
   ]
  },
  {
   "cell_type": "code",
   "execution_count": 21,
   "id": "b224367d-5f81-4190-89ad-ece6d70d4e8a",
   "metadata": {},
   "outputs": [
    {
     "name": "stdin",
     "output_type": "stream",
     "text": [
      "Enter thr sentence:  VidhyaSagar\n"
     ]
    },
    {
     "name": "stdout",
     "output_type": "stream",
     "text": [
      "Vowel Count is : 4\n"
     ]
    }
   ],
   "source": [
    "word = input(\"Enter thr sentence: \")\n",
    "vowel_count = 0\n",
    "\n",
    "for x in word:\n",
    "    if x in \"aeiouAEIOU\":\n",
    "        vowel_count = vowel_count+1\n",
    "        \n",
    "print(\"Vowel Count is :\",vowel_count)\n"
   ]
  },
  {
   "cell_type": "code",
   "execution_count": null,
   "id": "20f5e58f-bb38-4994-8d46-57ef6aa46fe7",
   "metadata": {},
   "outputs": [],
   "source": []
  },
  {
   "cell_type": "markdown",
   "id": "820a0d37-efa9-4852-b57f-4930d8324b30",
   "metadata": {},
   "source": [
    "3. Given a string, reverse the order of characters using string slicing and print\n",
    "the reversed string."
   ]
  },
  {
   "cell_type": "code",
   "execution_count": 24,
   "id": "b7168bd4-5195-40cc-8b78-d2c530566369",
   "metadata": {},
   "outputs": [
    {
     "name": "stdin",
     "output_type": "stream",
     "text": [
      "Enter the string: Vidhyasagar\n"
     ]
    },
    {
     "name": "stdout",
     "output_type": "stream",
     "text": [
      "Revesed String is:  ragasayhdiV\n"
     ]
    }
   ],
   "source": [
    "string = input(\"Enter the string:\")\n",
    "\n",
    "reversed_string = string[::-1]\n",
    "print(\"Revesed String is: \",reversed_string)"
   ]
  },
  {
   "cell_type": "code",
   "execution_count": null,
   "id": "0b5299fc-39a3-4c79-bc3f-222c1c8d3e57",
   "metadata": {},
   "outputs": [],
   "source": []
  },
  {
   "cell_type": "markdown",
   "id": "73929516-383f-4c75-9662-6795e6154159",
   "metadata": {},
   "source": [
    "4. Write a program that takes a string as input and checks if it is a palindrome\n",
    "(reads the same forwards and backwards)."
   ]
  },
  {
   "cell_type": "code",
   "execution_count": 28,
   "id": "d125529c-5202-4173-ab83-8e608e4f2183",
   "metadata": {},
   "outputs": [
    {
     "name": "stdin",
     "output_type": "stream",
     "text": [
      "Enter the String : madam\n"
     ]
    },
    {
     "name": "stdout",
     "output_type": "stream",
     "text": [
      "It's a Palindrome\n"
     ]
    }
   ],
   "source": [
    "String_input = input(\"Enter the String :\")\n",
    "\n",
    "revers = String_input[::-1]\n",
    "\n",
    "if revers == String_input:\n",
    "    print(\"It's a Palindrome\")\n",
    "else:\n",
    "    print(\"Not Palindrome\")"
   ]
  },
  {
   "cell_type": "code",
   "execution_count": null,
   "id": "e751979f-bff4-4fd9-9fd5-368073ae1701",
   "metadata": {},
   "outputs": [],
   "source": []
  },
  {
   "cell_type": "markdown",
   "id": "8b0495c3-d720-49e8-bf4f-b7b11ae66803",
   "metadata": {},
   "source": [
    "5. Create a program that takes a string as input and removes all the spaces from\n",
    "it. Print the modified string without spaces."
   ]
  },
  {
   "cell_type": "code",
   "execution_count": 30,
   "id": "8dbae52c-c407-417b-bf9a-ab3eed2c6af0",
   "metadata": {},
   "outputs": [
    {
     "name": "stdin",
     "output_type": "stream",
     "text": [
      "Enter the the string : Vidhya Sagar Reddy Gontu\n"
     ]
    },
    {
     "name": "stdout",
     "output_type": "stream",
     "text": [
      "VidhyaSagarReddyGontu\n"
     ]
    }
   ],
   "source": [
    "string1 = input(\"Enter the the string :\")\n",
    "output = string1.replace(\" \",\"\")\n",
    "print(output)"
   ]
  },
  {
   "cell_type": "code",
   "execution_count": null,
   "id": "e1fb0ef2-8814-47d7-aa4f-664c0c97ab0c",
   "metadata": {},
   "outputs": [],
   "source": []
  }
 ],
 "metadata": {
  "kernelspec": {
   "display_name": "Python 3 (ipykernel)",
   "language": "python",
   "name": "python3"
  },
  "language_info": {
   "codemirror_mode": {
    "name": "ipython",
    "version": 3
   },
   "file_extension": ".py",
   "mimetype": "text/x-python",
   "name": "python",
   "nbconvert_exporter": "python",
   "pygments_lexer": "ipython3",
   "version": "3.10.8"
  }
 },
 "nbformat": 4,
 "nbformat_minor": 5
}
